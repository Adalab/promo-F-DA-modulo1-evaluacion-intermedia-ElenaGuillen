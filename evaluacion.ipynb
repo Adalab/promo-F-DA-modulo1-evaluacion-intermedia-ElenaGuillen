{
 "cells": [
  {
   "cell_type": "markdown",
   "metadata": {},
   "source": [
    "# Strings"
   ]
  },
  {
   "cell_type": "code",
   "execution_count": 3,
   "metadata": {},
   "outputs": [
    {
     "data": {
      "text/plain": [
       "2"
      ]
     },
     "execution_count": 3,
     "metadata": {},
     "output_type": "execute_result"
    }
   ],
   "source": [
    "# Dada una cadena de texto, contar cuántas veces aparece una letra específica en ella. Usa un input para que el usuario elija la letra a buscar\n",
    "\n",
    "cadena = \"Python es un lenguaje de programación muy popular\"\n",
    "\n",
    "pregunta = input (f\"Qué letra quieres buscar dentro de esta frase? {cadena}\")\n",
    "\n",
    "cadena.count(pregunta)"
   ]
  },
  {
   "cell_type": "code",
   "execution_count": 5,
   "metadata": {},
   "outputs": [
    {
     "data": {
      "text/plain": [
       "'Python es dificil. Python es fácil de aprender'"
      ]
     },
     "execution_count": 5,
     "metadata": {},
     "output_type": "execute_result"
    }
   ],
   "source": [
    "# Escribe un programa que tome la siguiente cadena de texto y reemplace una palabra específica por otra palabra. La palabra a reemplazar y reemplazada deben ser elegidas por el usuario\n",
    "\n",
    "cadena1 = \"Python es genial. Python es fácil de aprender\"\n",
    "\n",
    "remplazar = input (f\"Qué palabra quieres reemplazar? {cadena}\")\n",
    "añadir = input (\"Qué palabra quieres añadir\")\n",
    "\n",
    "cadena1.replace (remplazar, añadir)"
   ]
  },
  {
   "cell_type": "code",
   "execution_count": 7,
   "metadata": {},
   "outputs": [
    {
     "data": {
      "text/plain": [
       "['Esto', 'es', 'una', 'oración', 'de', 'ejemplo']"
      ]
     },
     "execution_count": 7,
     "metadata": {},
     "output_type": "execute_result"
    }
   ],
   "source": [
    "# Toma la siguiente oración y divídela en una lista de palabras. Luego, únelas nuevamente en una sola cadena de texto\n",
    "\n",
    "oracion = \"Esto es una oración de ejemplo\"\n",
    "\n",
    "oracion_lista = oracion.split()\n",
    "\n",
    "oracion_lista"
   ]
  },
  {
   "cell_type": "code",
   "execution_count": 12,
   "metadata": {},
   "outputs": [
    {
     "data": {
      "text/plain": [
       "'Esto es una oración de ejemplo'"
      ]
     },
     "execution_count": 12,
     "metadata": {},
     "output_type": "execute_result"
    }
   ],
   "source": [
    "oracion_lista1 = \" \".join (oracion_lista)\n",
    "oracion_lista1"
   ]
  },
  {
   "cell_type": "code",
   "execution_count": 16,
   "metadata": {},
   "outputs": [
    {
     "data": {
      "text/plain": [
       "7"
      ]
     },
     "execution_count": 16,
     "metadata": {},
     "output_type": "execute_result"
    }
   ],
   "source": [
    "# Desarrolla un programa que cuente cuántas palabras hay en la siguiente frase\n",
    "\n",
    "cadena2 = \"Esta es una cadena con cinco palabras\"\n",
    "length = len(cadena2.split())\n",
    "length\n"
   ]
  },
  {
   "cell_type": "code",
   "execution_count": 27,
   "metadata": {},
   "outputs": [
    {
     "name": "stdout",
     "output_type": "stream",
     "text": [
      "['Día', 'de', 'evaluación']\n",
      "None\n"
     ]
    }
   ],
   "source": [
    "# Escribe un programa que invierta una cadena de texto dada por un usuario. Mira el siguiente ejemplo para entender lo que se pide  --- DUDAAA -- reVERSE DOESN´T WORK\n",
    "\n",
    "pregunta_invertir = input (\"qué frase quieres remplazar?\")\n",
    "\n",
    "pregunta_invertir_lista = pregunta_invertir.split()\n",
    "\n",
    "print(pregunta_invertir_lista)\n",
    "\n",
    "invertir = pregunta_invertir_lista.reverse() # No funciona\n",
    "print(invertir)\n",
    "\n"
   ]
  },
  {
   "cell_type": "code",
   "execution_count": 35,
   "metadata": {},
   "outputs": [
    {
     "name": "stdout",
     "output_type": "stream",
     "text": [
      "['Python', 'es', 'genial.', 'Python', 'es', 'fácil', 'de', 'aprender']\n",
      "1\n"
     ]
    }
   ],
   "source": [
    "# Crea un programa que busque una palabra específica(elegida por la usuaria) en una cadena de texto e indique su posición\n",
    "\n",
    "frase = \"Python es genial. Python es fácil de aprender\"\n",
    "frase_lista = frase.split()\n",
    "print(frase_lista)\n",
    "question = input (f\"qué palabra quiere buscar dentro de la frase: {frase}\")\n",
    "encontrar_palabra = frase_lista.index (question) \n",
    "print(encontrar_palabra)\n"
   ]
  },
  {
   "cell_type": "markdown",
   "metadata": {},
   "source": [
    "# Listas"
   ]
  },
  {
   "cell_type": "code",
   "execution_count": 39,
   "metadata": {},
   "outputs": [
    {
     "data": {
      "text/plain": [
       "['manzana', 'durazno', 'banana', 'uva', 'kiwi', 'naranja']"
      ]
     },
     "execution_count": 39,
     "metadata": {},
     "output_type": "execute_result"
    }
   ],
   "source": [
    "# Operaciones en lista\n",
    "\n",
    "frutas = ['manzana', 'pera', 'banana', 'uva', 'kiwi']\n",
    "\n",
    "# Reemplaza el segundo elemento con 'durazno\n",
    "\n",
    "frutas[1] = \"durazno\"\n",
    "\n",
    "frutas\n",
    "\n",
    "# Agrega 'naranja' al final de la lista\n",
    "\n",
    "frutas.append (\"naranja\")\n",
    "\n",
    "frutas\n",
    "\n",
    "\n"
   ]
  },
  {
   "cell_type": "code",
   "execution_count": 40,
   "metadata": {},
   "outputs": [
    {
     "name": "stdout",
     "output_type": "stream",
     "text": [
      "banana\n"
     ]
    }
   ],
   "source": [
    "# Extrae y muestra por pantalla el tercer elemento de la lista\n",
    "\n",
    "print (frutas[2])"
   ]
  },
  {
   "cell_type": "code",
   "execution_count": 41,
   "metadata": {},
   "outputs": [],
   "source": [
    "# Crea una lista llamada numeros que contenga los siguientes valores: 10, 25, 15, 30, 20\n",
    "\n",
    "numeros = [10, 25, 15, 30, 20]"
   ]
  },
  {
   "cell_type": "code",
   "execution_count": 42,
   "metadata": {},
   "outputs": [
    {
     "data": {
      "text/plain": [
       "[35, 10, 25, 15, 30, 20]"
      ]
     },
     "execution_count": 42,
     "metadata": {},
     "output_type": "execute_result"
    }
   ],
   "source": [
    "# Agrega el valor 35 al incio de la lista numeros\n",
    "\n",
    "numeros.insert(0, 35)\n",
    "numeros"
   ]
  },
  {
   "cell_type": "code",
   "execution_count": 44,
   "metadata": {},
   "outputs": [
    {
     "data": {
      "text/plain": [
       "[10, 15, 20, 25, 30, 35]"
      ]
     },
     "execution_count": 44,
     "metadata": {},
     "output_type": "execute_result"
    }
   ],
   "source": [
    "#Ordena la lista numeros en orden ascendente\n",
    "\n",
    "numeros.sort()\n",
    "numeros"
   ]
  },
  {
   "cell_type": "code",
   "execution_count": 46,
   "metadata": {},
   "outputs": [
    {
     "data": {
      "text/plain": [
       "[10, 25, 15, 30, 20, 45, 22, 19, 38, 29]"
      ]
     },
     "execution_count": 46,
     "metadata": {},
     "output_type": "execute_result"
    }
   ],
   "source": [
    "# Dada la siguiente lista numeros2 = [45, 22, 19, 38, 29]. Crea una nueva lista llamada numeros3 donde tengamos la unión de los todos los elementos de las dos listas (numeros y numeros2) de tal forma que el resultado final sea:\n",
    "\n",
    "numeros1 = [10, 25, 15, 30, 20]\n",
    "numeros2 = [45, 22, 19, 38, 29]\n",
    "\n",
    "numeros3 = numeros1 + numeros2\n",
    "\n",
    "numeros3"
   ]
  },
  {
   "cell_type": "code",
   "execution_count": 47,
   "metadata": {},
   "outputs": [
    {
     "data": {
      "text/plain": [
       "[10, 25, 15, 30, 20, 45, 22, 19, 38]"
      ]
     },
     "execution_count": 47,
     "metadata": {},
     "output_type": "execute_result"
    }
   ],
   "source": [
    "#Elimina el último elemento de la lista numeros3\n",
    "\n",
    "numeros3.pop()\n",
    "numeros3"
   ]
  },
  {
   "cell_type": "code",
   "execution_count": 48,
   "metadata": {},
   "outputs": [
    {
     "data": {
      "text/plain": [
       "[10, 25, 15, 20, 45, 22, 19, 38]"
      ]
     },
     "execution_count": 48,
     "metadata": {},
     "output_type": "execute_result"
    }
   ],
   "source": [
    "#Elimina el número 30 de la lista numeros3\n",
    "\n",
    "numeros3.remove(30)\n",
    "numeros3"
   ]
  },
  {
   "cell_type": "markdown",
   "metadata": {},
   "source": [
    "# Tuplas"
   ]
  },
  {
   "cell_type": "code",
   "execution_count": 50,
   "metadata": {},
   "outputs": [
    {
     "data": {
      "text/plain": [
       "('rojo', 'verde', 'azul', 'amarillo', 'morado')"
      ]
     },
     "execution_count": 50,
     "metadata": {},
     "output_type": "execute_result"
    }
   ],
   "source": [
    "# Crea una tupla llamada colores que contenga los siguientes valores: 'rojo', 'verde', 'azul', 'amarillo', 'morado'\n",
    "tupla = ('rojo', 'verde', 'azul', 'amarillo', 'morado')\n",
    "tupla"
   ]
  },
  {
   "cell_type": "code",
   "execution_count": 51,
   "metadata": {},
   "outputs": [
    {
     "data": {
      "text/plain": [
       "1"
      ]
     },
     "execution_count": 51,
     "metadata": {},
     "output_type": "execute_result"
    }
   ],
   "source": [
    "#Encuentra el índice de 'verde' en la tupla colores\n",
    "\n",
    "tupla.index(\"verde\")"
   ]
  },
  {
   "cell_type": "code",
   "execution_count": 52,
   "metadata": {},
   "outputs": [
    {
     "data": {
      "text/plain": [
       "1"
      ]
     },
     "execution_count": 52,
     "metadata": {},
     "output_type": "execute_result"
    }
   ],
   "source": [
    "#¿Cuántas veces aparece 'azul' en la tupla colores?\n",
    "\n",
    "tupla.count(\"azul\")"
   ]
  },
  {
   "cell_type": "code",
   "execution_count": 53,
   "metadata": {},
   "outputs": [
    {
     "data": {
      "text/plain": [
       "['rojo', 'verde', 'azul', 'amarillo', 'morado']"
      ]
     },
     "execution_count": 53,
     "metadata": {},
     "output_type": "execute_result"
    }
   ],
   "source": [
    "# Añade el color \"morado\" a la tupla colores. ¿Qué ha pasado? ¿Por qué? Como podríamos añadir el elemento \"morado\"\n",
    "\n",
    "# No se puee añadir un elemento a una tupla pq no se pueden modifiar. Se puede realizar convirtiedola a lista, añadir el elemento y convertirla a tupla de nuevo\n",
    "\n",
    "lista_tupla = list(tupla)\n",
    "lista_tupla"
   ]
  },
  {
   "cell_type": "code",
   "execution_count": 54,
   "metadata": {},
   "outputs": [
    {
     "data": {
      "text/plain": [
       "['rojo', 'verde', 'azul', 'amarillo', 'morado', 'morado']"
      ]
     },
     "execution_count": 54,
     "metadata": {},
     "output_type": "execute_result"
    }
   ],
   "source": [
    "lista_tupla.append(\"morado\")\n",
    "lista_tupla"
   ]
  },
  {
   "cell_type": "code",
   "execution_count": 56,
   "metadata": {},
   "outputs": [
    {
     "data": {
      "text/plain": [
       "('rojo', 'verde', 'azul', 'amarillo', 'morado', 'morado')"
      ]
     },
     "execution_count": 56,
     "metadata": {},
     "output_type": "execute_result"
    }
   ],
   "source": [
    "tupla_lista = tuple(lista_tupla)\n",
    "tupla_lista"
   ]
  },
  {
   "cell_type": "markdown",
   "metadata": {},
   "source": [
    "# Diccionarios"
   ]
  },
  {
   "cell_type": "code",
   "execution_count": 57,
   "metadata": {},
   "outputs": [
    {
     "data": {
      "text/plain": [
       "{'manzana': 2, 'banana': 3, 'uva': 5, 'pera': 4}"
      ]
     },
     "execution_count": 57,
     "metadata": {},
     "output_type": "execute_result"
    }
   ],
   "source": [
    "# Crea un diccionario llamado frutas con las siguientes parejas clave-valor\n",
    "\n",
    "diccionario = {\"manzana\": 2, \"banana\" : 3, \"uva\" : 5, \"pera\" : 4}\n",
    "diccionario\n"
   ]
  },
  {
   "cell_type": "code",
   "execution_count": 59,
   "metadata": {},
   "outputs": [
    {
     "data": {
      "text/plain": [
       "['manzana', 'banana', 'uva', 'pera']"
      ]
     },
     "execution_count": 59,
     "metadata": {},
     "output_type": "execute_result"
    }
   ],
   "source": [
    "# Saca una lista de todas las frutas en el diccionario\n",
    "list (diccionario.keys())"
   ]
  },
  {
   "cell_type": "code",
   "execution_count": 60,
   "metadata": {},
   "outputs": [
    {
     "data": {
      "text/plain": [
       "[2, 3, 5, 4]"
      ]
     },
     "execution_count": 60,
     "metadata": {},
     "output_type": "execute_result"
    }
   ],
   "source": [
    "#Saca una lista de todas las cantidades en el diccionario.\n",
    "\n",
    "list (diccionario.values())"
   ]
  },
  {
   "cell_type": "code",
   "execution_count": 61,
   "metadata": {},
   "outputs": [
    {
     "data": {
      "text/plain": [
       "2"
      ]
     },
     "execution_count": 61,
     "metadata": {},
     "output_type": "execute_result"
    }
   ],
   "source": [
    "# ¿Qué cantidad de 'manzana' tenemos?. Si la clave 'manzana' no está presente, devuelve un mensaje diciendo \"No existe esa clave\"\n",
    "\n",
    "diccionario.get(\"manzana\",\"no existe a clave\")"
   ]
  },
  {
   "cell_type": "code",
   "execution_count": 64,
   "metadata": {},
   "outputs": [
    {
     "data": {
      "text/plain": [
       "{'manzana': 2, 'banana': 3, 'uva': 5, 'pera': 4, 'kiwi': 6}"
      ]
     },
     "execution_count": 64,
     "metadata": {},
     "output_type": "execute_result"
    }
   ],
   "source": [
    "#Agrega un nuevo par de clave-valor al diccionario frutas: 'kiwi' con una cantidad de 6\n",
    "\n",
    "diccionario.update ({\"kiwi\": 6})\n",
    "diccionario"
   ]
  },
  {
   "cell_type": "code",
   "execution_count": 65,
   "metadata": {},
   "outputs": [
    {
     "data": {
      "text/plain": [
       "{'manzana': 2, 'banana': 3, 'uva': 8, 'pera': 4, 'kiwi': 6}"
      ]
     },
     "execution_count": 65,
     "metadata": {},
     "output_type": "execute_result"
    }
   ],
   "source": [
    "#Cambia la cantidad de 'uva' a 8\n",
    "diccionario[\"uva\"] = 8\n",
    "diccionario"
   ]
  },
  {
   "cell_type": "code",
   "execution_count": 67,
   "metadata": {},
   "outputs": [
    {
     "data": {
      "text/plain": [
       "{'sandia': 7, 'mango': 4}"
      ]
     },
     "execution_count": 67,
     "metadata": {},
     "output_type": "execute_result"
    }
   ],
   "source": [
    "#Crea un segundo diccionario llamado frutas_nuevas con las siguientes parejas clave-valor\n",
    "\n",
    "diccionario2 = {\"sandia\" : 7, \"mango\" : 4}\n",
    "diccionario2"
   ]
  },
  {
   "cell_type": "code",
   "execution_count": 79,
   "metadata": {},
   "outputs": [
    {
     "name": "stdout",
     "output_type": "stream",
     "text": [
      "({'manzana': 2, 'banana': 3, 'uva': 8, 'pera': 4, 'kiwi': 6, 'sandia': 7, 'mango': 4}, {'sandia': 7, 'mango': 4})\n"
     ]
    }
   ],
   "source": [
    "# Combinar los dos diccionarios frutas_nuevas y frutas en uno nuevos llamado DUDAAAAAA\n",
    "\n",
    "frutas_total = diccionario, diccionario2\n",
    "print(frutas_total)"
   ]
  },
  {
   "cell_type": "code",
   "execution_count": 81,
   "metadata": {},
   "outputs": [
    {
     "data": {
      "text/plain": [
       "('mango', 4)"
      ]
     },
     "execution_count": 81,
     "metadata": {},
     "output_type": "execute_result"
    }
   ],
   "source": [
    "#Elimina el último par de clave-valor del diccionario fruta_total\n",
    "diccionario.popitem()"
   ]
  },
  {
   "cell_type": "code",
   "execution_count": 82,
   "metadata": {},
   "outputs": [
    {
     "data": {
      "text/plain": [
       "8"
      ]
     },
     "execution_count": 82,
     "metadata": {},
     "output_type": "execute_result"
    }
   ],
   "source": [
    "#Elimina el par de clave-valor correspondiente a la clave 'uva' del diccionario\n",
    "diccionario.pop(\"uva\")"
   ]
  },
  {
   "cell_type": "code",
   "execution_count": 84,
   "metadata": {},
   "outputs": [
    {
     "data": {
      "text/plain": [
       "{'manzana': 2, 'banana': 3, 'pera': 4, 'kiwi': 6, 'sandia': 7}"
      ]
     },
     "execution_count": 84,
     "metadata": {},
     "output_type": "execute_result"
    }
   ],
   "source": [
    "diccionario"
   ]
  },
  {
   "cell_type": "code",
   "execution_count": 85,
   "metadata": {},
   "outputs": [
    {
     "data": {
      "text/plain": [
       "2"
      ]
     },
     "execution_count": 85,
     "metadata": {},
     "output_type": "execute_result"
    }
   ],
   "source": [
    "#Agregar la fruta 'manzana' con una cantidad de 10 al diccionario. Si ya existe, no se realizarán cambios en los valores que teníamos\n",
    "diccionario.setdefault(\"manzana\", 10)"
   ]
  },
  {
   "cell_type": "code",
   "execution_count": 86,
   "metadata": {},
   "outputs": [
    {
     "data": {
      "text/plain": [
       "{'manzana': 2, 'banana': 3, 'pera': 4, 'kiwi': 6, 'sandia': 7}"
      ]
     },
     "execution_count": 86,
     "metadata": {},
     "output_type": "execute_result"
    }
   ],
   "source": [
    "diccionario"
   ]
  },
  {
   "cell_type": "code",
   "execution_count": 87,
   "metadata": {},
   "outputs": [
    {
     "data": {
      "text/plain": [
       "[2, 3, 4, 6, 7]"
      ]
     },
     "execution_count": 87,
     "metadata": {},
     "output_type": "execute_result"
    }
   ],
   "source": [
    "#Combinar métodos de listas y diccionarios\n",
    "\n",
    "# Obtén una lista de todas las cantidades en el diccionario y calcula suma total de las cantidades del diccionario frutas_total\n",
    "\n",
    "lista_valores = list(diccionario.values())\n",
    "lista_valores"
   ]
  },
  {
   "cell_type": "code",
   "execution_count": 88,
   "metadata": {},
   "outputs": [
    {
     "data": {
      "text/plain": [
       "22"
      ]
     },
     "execution_count": 88,
     "metadata": {},
     "output_type": "execute_result"
    }
   ],
   "source": [
    "sum(lista_valores)"
   ]
  },
  {
   "cell_type": "code",
   "execution_count": 89,
   "metadata": {},
   "outputs": [
    {
     "data": {
      "text/plain": [
       "7"
      ]
     },
     "execution_count": 89,
     "metadata": {},
     "output_type": "execute_result"
    }
   ],
   "source": [
    "#Utilizando la lista creada en el apartado anterior encuentra la cantidad más grande y más pequeña\n",
    "max(lista_valores)"
   ]
  },
  {
   "cell_type": "code",
   "execution_count": 90,
   "metadata": {},
   "outputs": [
    {
     "data": {
      "text/plain": [
       "2"
      ]
     },
     "execution_count": 90,
     "metadata": {},
     "output_type": "execute_result"
    }
   ],
   "source": [
    "min(lista_valores)"
   ]
  },
  {
   "cell_type": "markdown",
   "metadata": {},
   "source": [
    "# Métodos de Sets"
   ]
  },
  {
   "cell_type": "code",
   "execution_count": 91,
   "metadata": {},
   "outputs": [],
   "source": [
    "# Crea un set llamado conjunto1 con los números del 1 al 5\n",
    "\n",
    "conjunto1 = {1, 2, 3, 4, 5}"
   ]
  },
  {
   "cell_type": "code",
   "execution_count": 93,
   "metadata": {},
   "outputs": [],
   "source": [
    "# Crea un set llamado conjunto2 con los números del 4 al 8\n",
    "\n",
    "conjunto2 = {4, 5, 6, 7, 8}"
   ]
  },
  {
   "cell_type": "code",
   "execution_count": 94,
   "metadata": {},
   "outputs": [
    {
     "data": {
      "text/plain": [
       "{1, 2, 3, 4, 5, 6, 7, 8}"
      ]
     },
     "execution_count": 94,
     "metadata": {},
     "output_type": "execute_result"
    }
   ],
   "source": [
    "# Obtén la unión de conjunto1 y conjunto2\n",
    "\n",
    "conjunto1.union(conjunto2)"
   ]
  },
  {
   "cell_type": "code",
   "execution_count": 95,
   "metadata": {},
   "outputs": [
    {
     "data": {
      "text/plain": [
       "{4, 5}"
      ]
     },
     "execution_count": 95,
     "metadata": {},
     "output_type": "execute_result"
    }
   ],
   "source": [
    "# Obtén la intersección de conjunto1 y conjunto2\n",
    "\n",
    "conjunto1.intersection(conjunto2)"
   ]
  },
  {
   "cell_type": "code",
   "execution_count": 96,
   "metadata": {},
   "outputs": [
    {
     "data": {
      "text/plain": [
       "{1, 2, 3}"
      ]
     },
     "execution_count": 96,
     "metadata": {},
     "output_type": "execute_result"
    }
   ],
   "source": [
    "# Obtén los elementos que están en conjunto1 pero no en el conjunto2\n",
    "conjunto1.difference(conjunto2)"
   ]
  },
  {
   "cell_type": "markdown",
   "metadata": {},
   "source": [
    "# Sentencias de control"
   ]
  },
  {
   "cell_type": "code",
   "execution_count": 99,
   "metadata": {},
   "outputs": [
    {
     "name": "stdout",
     "output_type": "stream",
     "text": [
      "eres adulto\n"
     ]
    }
   ],
   "source": [
    "# Evaluación de Edades\n",
    "\n",
    "edad = int(input(\"qué edad tienes?\"))\n",
    "\n",
    "if edad < 18:\n",
    "    print (\"eres menor de edad\")\n",
    "\n",
    "elif 18 <= edad <= 65:\n",
    "    print (\"eres adulto\")\n",
    "\n",
    "else:\n",
    "    print (\"eres adulto mayor\")"
   ]
  },
  {
   "cell_type": "code",
   "execution_count": 103,
   "metadata": {},
   "outputs": [
    {
     "name": "stdout",
     "output_type": "stream",
     "text": [
      "es martes\n"
     ]
    }
   ],
   "source": [
    "# Determinación de Día de la Semana\n",
    "\n",
    "dia = int(input(\"introdue un día de la semana del 1 al 7\"))\n",
    "\n",
    "if dia == 1:\n",
    "    print (\"3s lunes\")\n",
    "\n",
    "elif dia == 2:\n",
    "    print (\"es martes\")\n",
    "\n",
    "elif dia == 3:\n",
    "    print (\"es miercoles\")\n",
    "\n",
    "elif dia == 4:\n",
    "    print (\"es jueves\")\n",
    "\n",
    "elif dia == 5:\n",
    "    print (\"es viernes\")\n",
    "\n",
    "elif dia == 6:\n",
    "    print (\"es sabado\")\n",
    "elif dia == 7:\n",
    "    print (\"es domingo\")\n",
    "\n",
    "else:\n",
    "    print (\"Valor inváldo. Vuelve a introducir un día de la semana dl 1 al 7\")\n"
   ]
  },
  {
   "cell_type": "code",
   "execution_count": 104,
   "metadata": {},
   "outputs": [],
   "source": [
    "# Juego de Adivinanza\n",
    "\n",
    "import random"
   ]
  },
  {
   "cell_type": "code",
   "execution_count": 108,
   "metadata": {},
   "outputs": [
    {
     "data": {
      "text/plain": [
       "79"
      ]
     },
     "execution_count": 108,
     "metadata": {},
     "output_type": "execute_result"
    }
   ],
   "source": [
    "numero_aleatorio = random.randint(1,100)\n",
    "numero_aleatorio"
   ]
  },
  {
   "cell_type": "code",
   "execution_count": 114,
   "metadata": {},
   "outputs": [
    {
     "name": "stdout",
     "output_type": "stream",
     "text": [
      "numero secreto es 100\n",
      "___________________________________________\n",
      "tu numero 50 es demasiado pequeño. Introduce uno grande uno más grande\n",
      "___________________________________________\n",
      "llevas 1 intentos \n",
      "tu numero 70 es demasiado pequeño. Introduce uno grande uno más grande\n",
      "___________________________________________\n",
      "llevas 2 intentos \n",
      "tu numero 90 es demasiado pequeño. Introduce uno grande uno más grande\n",
      "___________________________________________\n",
      "llevas 3 intentos \n",
      "tu numero 95 es demasiado pequeño. Introduce uno grande uno más grande\n",
      "___________________________________________\n",
      "llevas 4 intentos \n",
      "tu numero 97 es demasiado pequeño. Introduce uno grande uno más grande\n",
      "___________________________________________\n",
      "llevas 5 intentos \n",
      "tu numero 99 es demasiado pequeño. Introduce uno grande uno más grande\n",
      "___________________________________________\n",
      "llevas 6 intentos \n",
      "tu numero 99 es demasiado pequeño. Introduce uno grande uno más grande\n",
      "___________________________________________\n",
      "llevas 7 intentos \n",
      "llevas 8 intentos \n",
      "FELICIDADES. Has acertado!!\n"
     ]
    }
   ],
   "source": [
    "numero_aleatorio = random.randint(1,100)\n",
    "print (f\"numero secreto es {numero_aleatorio}\")\n",
    "print (\"___________________________________________\")\n",
    "adivina = int(input(\"Adivina el número secreto\"))\n",
    "intentos = 0\n",
    "\n",
    "while adivina != numero_aleatorio:\n",
    "\n",
    "    adivina = int(input(\"Adivia el número secreto\"))\n",
    "    \n",
    "    if adivina > numero_aleatorio:\n",
    "        print (f\"tu numero {adivina} es demasiado grande. Reducelo\")\n",
    "        print (\"___________________________________________\")\n",
    "    elif adivina < numero_aleatorio:\n",
    "        print (f\"tu numero {adivina} es demasiado pequeño. Introduce uno grande uno más grande\")\n",
    "        print (\"___________________________________________\")\n",
    "    elif adivina + 10 > numero_aleatorio + 10:\n",
    "        print (f\"tu numero {adivina} está muy cerca. Está enre los prox. 10 nros.\")\n",
    "        print (\"___________________________________________\")\n",
    "    elif adivina + 10 < numero_aleatorio:\n",
    "        print (f\"tu numero {adivina} está muy cerca. Está enre los 10 nros anteiores.\")\n",
    "        print (\"___________________________________________\")\n",
    "\n",
    "    intentos += 1\n",
    "    print (f\"llevas {intentos} intentos \")\n",
    "\n",
    "if adivina == numero_aleatorio: \n",
    "    print (\"FELICIDADES. Has acertado!!\")\n",
    "    "
   ]
  },
  {
   "cell_type": "code",
   "execution_count": 115,
   "metadata": {},
   "outputs": [
    {
     "name": "stdout",
     "output_type": "stream",
     "text": [
      "numero secreto es 16\n",
      "___________________________________________\n",
      "tu numero 40 es demasiado grande. Reducelo\n",
      "___________________________________________\n",
      "llevas 1 intentos \n",
      "tu numero 30 es demasiado grande. Reducelo\n",
      "___________________________________________\n",
      "llevas 2 intentos \n",
      "tu numero 15 es demasiado pequeño. Introduce uno grande uno más grande\n",
      "___________________________________________\n",
      "llevas 3 intentos \n",
      "tu numero 15 es demasiado pequeño. Introduce uno grande uno más grande\n",
      "___________________________________________\n",
      "llevas 4 intentos \n",
      "tu numero 17 es demasiado grande. Reducelo\n",
      "___________________________________________\n",
      "llevas 5 intentos \n",
      "FELICIDADES. Has acertado!!\n"
     ]
    }
   ],
   "source": [
    "numero_aleatorio = random.randint(1,100)\n",
    "print (f\"numero secreto es {numero_aleatorio}\")\n",
    "print (\"___________________________________________\")\n",
    "adivina = int(input(\"Adivina el número secreto\"))\n",
    "intentos = 0\n",
    "\n",
    "while adivina != numero_aleatorio:\n",
    "\n",
    "    if adivina > numero_aleatorio:\n",
    "        print (f\"tu numero {adivina} es demasiado grande. Reducelo\")\n",
    "        print (\"___________________________________________\")\n",
    "    elif adivina < numero_aleatorio:\n",
    "        print (f\"tu numero {adivina} es demasiado pequeño. Introduce uno grande uno más grande\")\n",
    "        print (\"___________________________________________\")\n",
    "    elif adivina + 10 > numero_aleatorio + 10:\n",
    "        print (f\"tu numero {adivina} está muy cerca. Está enre los prox. 10 nros.\")\n",
    "        print (\"___________________________________________\")\n",
    "    elif adivina + 10 < numero_aleatorio:\n",
    "        print (f\"tu numero {adivina} está muy cerca. Está enre los 10 nros anteiores.\")\n",
    "        print (\"___________________________________________\")\n",
    "\n",
    "    intentos += 1\n",
    "    print (f\"llevas {intentos} intentos \")\n",
    "    adivina = int(input(\"Adivia el número secreto\")) ## Si lo pongo al final no me lo pregunta 2 veces al ppio\n",
    "\n",
    "if adivina == numero_aleatorio: \n",
    "    print (\"FELICIDADES. Has acertado!!\")"
   ]
  },
  {
   "cell_type": "code",
   "execution_count": 117,
   "metadata": {},
   "outputs": [],
   "source": [
    "# Juego de Adivinar la Palabra\n",
    "import string\n"
   ]
  },
  {
   "cell_type": "code",
   "execution_count": 120,
   "metadata": {},
   "outputs": [
    {
     "ename": "ModuleNotFoundError",
     "evalue": "No module named 'askpass'",
     "output_type": "error",
     "traceback": [
      "\u001b[0;31m---------------------------------------------------------------------------\u001b[0m",
      "\u001b[0;31mModuleNotFoundError\u001b[0m                       Traceback (most recent call last)",
      "\u001b[0;32m/tmp/ipykernel_1160/206902461.py\u001b[0m in \u001b[0;36m<module>\u001b[0;34m\u001b[0m\n\u001b[0;32m----> 1\u001b[0;31m \u001b[0;32mimport\u001b[0m \u001b[0maskpass\u001b[0m\u001b[0;34m\u001b[0m\u001b[0;34m\u001b[0m\u001b[0m\n\u001b[0m",
      "\u001b[0;31mModuleNotFoundError\u001b[0m: No module named 'askpass'"
     ]
    }
   ],
   "source": [
    "import askpass"
   ]
  },
  {
   "cell_type": "code",
   "execution_count": 128,
   "metadata": {},
   "outputs": [
    {
     "name": "stdout",
     "output_type": "stream",
     "text": [
      "Collecting pwinput\n",
      "  Downloading pwinput-1.0.3.tar.gz (4.4 kB)\n",
      "  Installing build dependencies ... \u001b[?25ldone\n",
      "\u001b[?25h  Getting requirements to build wheel ... \u001b[?25ldone\n",
      "\u001b[?25h    Preparing wheel metadata ... \u001b[?25ldone\n",
      "\u001b[?25hBuilding wheels for collected packages: pwinput\n",
      "  Building wheel for pwinput (PEP 517) ... \u001b[?25ldone\n",
      "\u001b[?25h  Created wheel for pwinput: filename=pwinput-1.0.3-py3-none-any.whl size=4519 sha256=3a87950df9b7ebc3cf9070b88be6e53431fadc157c2181f975ef28896d3691dd\n",
      "  Stored in directory: /home/elenag/.cache/pip/wheels/97/45/1a/d9305460c0991c0437f2f3a6f26f6e68423620b30ace1a8d9a\n",
      "Successfully built pwinput\n",
      "^C\n",
      "\u001b[31mERROR: Operation cancelled by user\u001b[0m\n",
      "Note: you may need to restart the kernel to use updated packages.\n"
     ]
    }
   ],
   "source": [
    "pip install pwinput"
   ]
  },
  {
   "cell_type": "code",
   "execution_count": 133,
   "metadata": {},
   "outputs": [
    {
     "ename": "IndentationError",
     "evalue": "expected an indented block (2488234796.py, line 12)",
     "output_type": "error",
     "traceback": [
      "\u001b[0;36m  File \u001b[0;32m\"/tmp/ipykernel_1160/2488234796.py\"\u001b[0;36m, line \u001b[0;32m12\u001b[0m\n\u001b[0;31m    pala\u001b[0m\n\u001b[0m    ^\u001b[0m\n\u001b[0;31mIndentationError\u001b[0m\u001b[0;31m:\u001b[0m expected an indented block\n"
     ]
    }
   ],
   "source": [
    "palabra = list(\"serendipia\")\n",
    "palabra\n",
    "secreta = [\"*\", \"*\", \"*\",\"*\",\"*\",\"*\",\"*\"]\n",
    "numero = 7\n",
    "print (secreta)\n",
    "vida = 10\n",
    "usuario = input(\"introduce una letra\").lower()\n",
    "\n",
    "while (usuario in palabra) and (palabra < 7) :\n",
    "\n",
    "    if usuario in palabra:\n",
    "    pala\n",
    "    print (secreta.palabra.index(usuario))\n",
    "    usuario = input(\"introduce una letra\").lower()\n",
    "\n",
    "while usuario not in palabra:\n",
    "    print (f\"La letra {usuario}\")\n",
    "    vida -= 1\n",
    "    print (f\"te quedan {vida}\")\n",
    "    usuario = input(\"introduce una letra\").lower()\n",
    "\n",
    "if palabra divina == numero_aleatorio: \n",
    "    print (\"FELICIDADES. Has acertado!!\")"
   ]
  },
  {
   "cell_type": "code",
   "execution_count": 134,
   "metadata": {},
   "outputs": [
    {
     "data": {
      "text/plain": [
       "['s', 'e', 'r', 'e', 'n', 'd', 'i', 'p', 'i', 'a']"
      ]
     },
     "execution_count": 134,
     "metadata": {},
     "output_type": "execute_result"
    }
   ],
   "source": [
    "palabra = list(\"serendipia\")\n",
    "palabra"
   ]
  }
 ],
 "metadata": {
  "kernelspec": {
   "display_name": "base",
   "language": "python",
   "name": "python3"
  },
  "language_info": {
   "codemirror_mode": {
    "name": "ipython",
    "version": 3
   },
   "file_extension": ".py",
   "mimetype": "text/x-python",
   "name": "python",
   "nbconvert_exporter": "python",
   "pygments_lexer": "ipython3",
   "version": "3.9.7"
  }
 },
 "nbformat": 4,
 "nbformat_minor": 2
}
